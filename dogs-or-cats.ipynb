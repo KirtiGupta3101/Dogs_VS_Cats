{
 "metadata": {
  "kernelspec": {
   "language": "python",
   "display_name": "Python 3",
   "name": "python3"
  },
  "language_info": {
   "name": "python",
   "version": "3.7.12",
   "mimetype": "text/x-python",
   "codemirror_mode": {
    "name": "ipython",
    "version": 3
   },
   "pygments_lexer": "ipython3",
   "nbconvert_exporter": "python",
   "file_extension": ".py"
  }
 },
 "nbformat_minor": 4,
 "nbformat": 4,
 "cells": [
  {
   "cell_type": "code",
   "source": [
    "import numpy as np \n",
    "import pandas as pd \n",
    "import tensorflow as tf\n",
    "from tensorflow import keras\n",
    "from keras import Sequential\n",
    "from keras.layers import Dense,Conv2D,MaxPooling2D,Flatten,Dropout,BatchNormalization\n",
    "import os"
   ],
   "metadata": {
    "_uuid": "8f2839f25d086af736a60e9eeb907d3b93b6e0e5",
    "_cell_guid": "b1076dfc-b9ad-4769-8c92-a6c4dae69d19",
    "execution": {
     "iopub.status.busy": "2022-10-29T10:36:01.174974Z",
     "iopub.execute_input": "2022-10-29T10:36:01.175369Z",
     "iopub.status.idle": "2022-10-29T10:36:01.181981Z",
     "shell.execute_reply.started": "2022-10-29T10:36:01.175336Z",
     "shell.execute_reply": "2022-10-29T10:36:01.180560Z"
    },
    "trusted": true,
    "pycharm": {
     "name": "#%%\n"
    }
   },
   "execution_count": 29,
   "outputs": []
  },
  {
   "cell_type": "code",
   "source": [
    "#generators\n",
    "train_ds=keras.utils.image_dataset_from_directory(\n",
    "    directory='../input/dogs-vs-cats/train',\n",
    "    labels='inferred',\n",
    "    label_mode = 'int',\n",
    "    batch_size=32,\n",
    "    image_size=(256,256)\n",
    ")\n",
    "test_ds=keras.utils.image_dataset_from_directory(\n",
    "    directory='../input/dogs-vs-cats/test',\n",
    "    labels='inferred',\n",
    "    label_mode = 'int',\n",
    "    batch_size=32,\n",
    "    image_size=(256,256)\n",
    ")"
   ],
   "metadata": {
    "execution": {
     "iopub.status.busy": "2022-10-29T10:36:01.184336Z",
     "iopub.execute_input": "2022-10-29T10:36:01.184884Z",
     "iopub.status.idle": "2022-10-29T10:36:04.972565Z",
     "shell.execute_reply.started": "2022-10-29T10:36:01.184712Z",
     "shell.execute_reply": "2022-10-29T10:36:04.971553Z"
    },
    "trusted": true,
    "pycharm": {
     "name": "#%%\n"
    }
   },
   "execution_count": 30,
   "outputs": [
    {
     "name": "stdout",
     "text": "Found 20000 files belonging to 2 classes.\nFound 5000 files belonging to 2 classes.\n",
     "output_type": "stream"
    }
   ]
  },
  {
   "cell_type": "code",
   "source": [
    "#Normalize\n",
    "def process(image,label):\n",
    "    image=tf.cast(image/255.,tf.float32)\n",
    "    return image,label\n",
    "train_ds = train_ds.map(process)\n",
    "test_ds = test_ds.map(process)"
   ],
   "metadata": {
    "execution": {
     "iopub.status.busy": "2022-10-29T10:36:04.975272Z",
     "iopub.execute_input": "2022-10-29T10:36:04.975671Z",
     "iopub.status.idle": "2022-10-29T10:36:05.024680Z",
     "shell.execute_reply.started": "2022-10-29T10:36:04.975632Z",
     "shell.execute_reply": "2022-10-29T10:36:05.023604Z"
    },
    "trusted": true,
    "pycharm": {
     "name": "#%%\n"
    }
   },
   "execution_count": 31,
   "outputs": []
  },
  {
   "cell_type": "code",
   "source": [
    "#create CNN model\n",
    "model = Sequential()\n",
    "model.add(Conv2D(32,kernel_size=(3,3),padding='valid',activation='elu',input_shape=(256,256,3)))\n",
    "model.add(BatchNormalization())\n",
    "model.add(MaxPooling2D(pool_size=(2,2),strides=2,padding = 'valid'))\n",
    "\n",
    "model.add(Conv2D(64,kernel_size=(3,3),padding='valid',activation='elu'))\n",
    "model.add(BatchNormalization())\n",
    "model.add(MaxPooling2D(pool_size=(2,2),strides=2,padding = 'valid'))\n",
    "\n",
    "model.add(Conv2D(128,kernel_size=(3,3),padding='valid',activation='elu'))\n",
    "model.add(BatchNormalization())\n",
    "model.add(MaxPooling2D(pool_size=(2,2),strides=2,padding = 'valid'))\n",
    "\n",
    "model.add(Flatten())\n",
    "model.add(Dense(128,activation='elu'))\n",
    "model.add(Dropout(0.15))\n",
    "model.add(Dense(64,activation='elu'))\n",
    "model.add(Dropout(0.15))\n",
    "model.add(Dense(1,activation='sigmoid'))"
   ],
   "metadata": {
    "execution": {
     "iopub.status.busy": "2022-10-29T10:36:05.026396Z",
     "iopub.execute_input": "2022-10-29T10:36:05.026808Z",
     "iopub.status.idle": "2022-10-29T10:36:05.126477Z",
     "shell.execute_reply.started": "2022-10-29T10:36:05.026758Z",
     "shell.execute_reply": "2022-10-29T10:36:05.125469Z"
    },
    "trusted": true,
    "pycharm": {
     "name": "#%%\n"
    }
   },
   "execution_count": 32,
   "outputs": []
  },
  {
   "cell_type": "code",
   "source": [
    "model.compile(optimizer='adam',loss='binary_crossentropy',metrics=['accuracy'])\n",
    "history = model.fit(train_ds,epochs=10,validation_data=test_ds)"
   ],
   "metadata": {
    "execution": {
     "iopub.status.busy": "2022-10-29T10:36:05.128859Z",
     "iopub.execute_input": "2022-10-29T10:36:05.129241Z",
     "iopub.status.idle": "2022-10-29T10:48:24.990014Z",
     "shell.execute_reply.started": "2022-10-29T10:36:05.129206Z",
     "shell.execute_reply": "2022-10-29T10:48:24.988847Z"
    },
    "trusted": true,
    "pycharm": {
     "name": "#%%\n"
    }
   },
   "execution_count": 33,
   "outputs": [
    {
     "name": "stdout",
     "text": "Epoch 1/10\n625/625 [==============================] - 70s 110ms/step - loss: 1.5492 - accuracy: 0.5491 - val_loss: 0.6481 - val_accuracy: 0.6100\nEpoch 2/10\n625/625 [==============================] - 69s 109ms/step - loss: 0.6418 - accuracy: 0.6364 - val_loss: 0.5725 - val_accuracy: 0.7050\nEpoch 3/10\n625/625 [==============================] - 69s 109ms/step - loss: 0.5494 - accuracy: 0.7242 - val_loss: 0.5345 - val_accuracy: 0.7322\nEpoch 4/10\n625/625 [==============================] - 69s 110ms/step - loss: 0.4832 - accuracy: 0.7635 - val_loss: 0.4978 - val_accuracy: 0.7540\nEpoch 5/10\n625/625 [==============================] - 68s 109ms/step - loss: 0.4197 - accuracy: 0.8096 - val_loss: 0.4592 - val_accuracy: 0.7818\nEpoch 6/10\n625/625 [==============================] - 68s 109ms/step - loss: 0.3601 - accuracy: 0.8399 - val_loss: 0.4367 - val_accuracy: 0.7982\nEpoch 7/10\n625/625 [==============================] - 69s 109ms/step - loss: 0.2862 - accuracy: 0.8777 - val_loss: 0.4369 - val_accuracy: 0.8138\nEpoch 8/10\n625/625 [==============================] - 69s 110ms/step - loss: 0.2047 - accuracy: 0.9177 - val_loss: 0.5704 - val_accuracy: 0.7954\nEpoch 9/10\n625/625 [==============================] - 69s 109ms/step - loss: 0.1574 - accuracy: 0.9391 - val_loss: 0.9942 - val_accuracy: 0.7508\nEpoch 10/10\n625/625 [==============================] - 68s 109ms/step - loss: 0.1105 - accuracy: 0.9596 - val_loss: 0.5950 - val_accuracy: 0.8226\n",
     "output_type": "stream"
    }
   ]
  },
  {
   "cell_type": "code",
   "source": [
    "import matplotlib.pyplot as plt\n",
    "plt.plot(history.history['accuracy'],color='red',label='train')\n",
    "plt.plot(history.history['val_accuracy'],color='blue',label='test')\n",
    "plt.legend()\n",
    "plt.show()"
   ],
   "metadata": {
    "execution": {
     "iopub.status.busy": "2022-10-29T10:48:24.991836Z",
     "iopub.execute_input": "2022-10-29T10:48:24.992171Z",
     "iopub.status.idle": "2022-10-29T10:48:25.201400Z",
     "shell.execute_reply.started": "2022-10-29T10:48:24.992143Z",
     "shell.execute_reply": "2022-10-29T10:48:25.200434Z"
    },
    "trusted": true,
    "pycharm": {
     "name": "#%%\n"
    }
   },
   "execution_count": 34,
   "outputs": [
    {
     "output_type": "display_data",
     "data": {
      "text/plain": "<Figure size 432x288 with 1 Axes>",
      "image/png": "[encoded data removed]"
     },
     "metadata": {
      "needs_background": "light"
     }
    }
   ]
  },
  {
   "cell_type": "code",
   "source": [
    "import matplotlib.pyplot as plt\n",
    "plt.plot(history.history['loss'],color='red',label='train')\n",
    "plt.plot(history.history['val_loss'],color='blue',label='test')\n",
    "plt.legend()\n",
    "plt.show()"
   ],
   "metadata": {
    "execution": {
     "iopub.status.busy": "2022-10-29T10:48:25.202642Z",
     "iopub.execute_input": "2022-10-29T10:48:25.205508Z",
     "iopub.status.idle": "2022-10-29T10:48:25.407705Z",
     "shell.execute_reply.started": "2022-10-29T10:48:25.205478Z",
     "shell.execute_reply": "2022-10-29T10:48:25.406795Z"
    },
    "trusted": true,
    "pycharm": {
     "name": "#%%\n"
    }
   },
   "execution_count": 35,
   "outputs": [
    {
     "output_type": "display_data",
     "data": {
      "text/plain": "<Figure size 432x288 with 1 Axes>",
      "image/png": "[encoded data removed]"
     },
     "metadata": {
      "needs_background": "light"
     }
    }
   ]
  },
  {
   "cell_type": "code",
   "source": [],
   "metadata": {
    "pycharm": {
     "name": "#%%\n"
    }
   },
   "execution_count": null,
   "outputs": []
  }
 ]
}